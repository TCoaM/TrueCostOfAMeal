{
 "cells": [
  {
   "cell_type": "markdown",
   "id": "41013a21",
   "metadata": {},
   "source": [
    "### AGROVOC Integration and Semantic Matching"
   ]
  },
  {
   "cell_type": "code",
   "execution_count": 2,
   "id": "aed21bc5",
   "metadata": {},
   "outputs": [],
   "source": [
    "import os\n",
    "import json\n",
    "import string\n",
    "import pandas as pd\n",
    "from SPARQLWrapper import SPARQLWrapper, JSON\n",
    "from sentence_transformers import SentenceTransformer, util"
   ]
  },
  {
   "cell_type": "markdown",
   "id": "d9fe8e6c",
   "metadata": {},
   "source": [
    "* **SPARQLWrapper**: Used to connect and query the AGROVOC SPARQL endpoint (`http://agrovoc.fao.org/sparql`).\n",
    "* **SentenceTransformer**: An 'all-MiniLM-L6-v2' model is initialized to perform semantic similarity calculations. This is crucial for finding the best match from AGROVOC candidates when a direct exact match is not found.\n",
    "* **Caching Mechanism**: Functions `load_cache()`and `save_cache()` are defined to store and retrieve AGROVOC query results. This prevents redundant queries to the external endpoint, improving efficiency.`clean_cache()` is designed to clear the cache from empty entries (in the case the SPARQL query did not return anything) by creating a `cleaned_cache` dictionary, including only entries where the `value` dictionary contains a \"label\" key with a non-`None` value. "
   ]
  },
  {
   "cell_type": "code",
   "execution_count": 3,
   "id": "65775d92",
   "metadata": {},
   "outputs": [],
   "source": [
    "# Initialize SPARQL endpoint and model\n",
    "sparql = SPARQLWrapper(\"http://agrovoc.fao.org/sparql\")\n",
    "model = SentenceTransformer('all-MiniLM-L6-v2')\n",
    "\n",
    "CACHE_PATH = \"agro_cache.json\""
   ]
  },
  {
   "cell_type": "code",
   "execution_count": 4,
   "id": "b43ce97c",
   "metadata": {},
   "outputs": [],
   "source": [
    "def load_cache():\n",
    "    if not os.path.exists(CACHE_PATH):\n",
    "        return {}\n",
    "    with open(CACHE_PATH, \"r\", encoding=\"utf-8\") as f:\n",
    "        cache = json.load(f)\n",
    "        return cache\n",
    "\n",
    "def save_cache(cache):\n",
    "    with open(CACHE_PATH, \"w\", encoding=\"utf-8\") as f:\n",
    "        json.dump(cache, f, indent=2)\n",
    "\n",
    "def clean_cache():\n",
    "    if not os.path.exists(CACHE_PATH):\n",
    "        return\n",
    "    with open(CACHE_PATH, \"r\", encoding=\"utf-8\") as f:\n",
    "        cache = json.load(f)\n",
    "\n",
    "    cleaned_cache = {\n",
    "        key: value\n",
    "        for key, value in cache.items()\n",
    "        if value.get(\"label\") is not None\n",
    "    }\n",
    "\n",
    "    with open(CACHE_PATH, \"w\", encoding=\"utf-8\") as f:\n",
    "        json.dump(cleaned_cache, f, indent=2)"
   ]
  },
  {
   "cell_type": "markdown",
   "id": "345a9112",
   "metadata": {},
   "source": [
    "* **`semantic_best_match(value, candidates)`**: This function takes an input `value` and a list of `candidates` (from AGROVOC). It encodes both the input and candidates into embeddings and then uses cosine similarity to find the candidate that is semantically closest to the input."
   ]
  },
  {
   "cell_type": "code",
   "execution_count": 51,
   "id": "cc93c55b",
   "metadata": {},
   "outputs": [],
   "source": [
    "def semantic_best_match(value, candidates):\n",
    "    input_embedding = model.encode(value, convert_to_tensor=True)\n",
    "    candidate_texts = []\n",
    "    for c in candidates:\n",
    "        candidate_texts.append(c[\"label\"])\n",
    "    candidate_embeddings = model.encode(candidate_texts, convert_to_tensor=True)\n",
    "    scores = util.cos_sim(input_embedding, candidate_embeddings)[0]\n",
    "    best_idx = scores.argmax().item()\n",
    "    return candidates[best_idx]"
   ]
  },
  {
   "cell_type": "markdown",
   "id": "513bc5a9",
   "metadata": {},
   "source": [
    "* **`query_agrovoc(value, cache)`**: This function first checks if the `value` or its alternative labels are present in the local `cache`. If not, it constructs a SPARQL query to search for the `value` in AGROVOC's `skos:prefLabel` and `skos:altLabel` (alternative labels). The results are then passed to `semantic_best_match` to identify the most relevant concept, which is then stored in the cache for future use."
   ]
  },
  {
   "cell_type": "code",
   "execution_count": 52,
   "id": "efb017af",
   "metadata": {},
   "outputs": [],
   "source": [
    "def query_agrovoc(value, cache):\n",
    "\n",
    "    norm_value = value.lower().replace(\",\", \"\")\n",
    "\n",
    "    if norm_value in cache:\n",
    "        print(f\"Cache hit: '{value}' found in cache\")\n",
    "        return cache[norm_value]\n",
    "    \n",
    "    for entry in cache.values():\n",
    "        if \"altLabels\" in entry and value in entry[\"altLabels\"]:\n",
    "            print(f\"Cache hit: '{value}' found in cache\")\n",
    "            return entry\n",
    "    \n",
    "    \n",
    "    print(f\"Cache miss: '{value}' not in cache, querying AGROVOC endpoint\")\n",
    "    # Run SPARQL query\n",
    "    query = f\"\"\"\n",
    "        PREFIX skos: <http://www.w3.org/2004/02/skos/core#>\n",
    "\n",
    "        SELECT ?concept ?label (GROUP_CONCAT(?altLabel; separator=\" | \") AS ?altLabels) WHERE {{\n",
    "        ?concept skos:prefLabel ?label .\n",
    "        OPTIONAL {{\n",
    "            ?concept skos:altLabel ?altLabel .\n",
    "            FILTER(LANG(?altLabel) = \"en\")\n",
    "        }}\n",
    "\n",
    "        FILTER(LANG(?label) = \"en\")\n",
    "\n",
    "        FILTER(\n",
    "            CONTAINS(LCASE(?label), \"{norm_value}\") ||\n",
    "            (BOUND(?altLabel) && CONTAINS(LCASE(?altLabel), \"{norm_value}\"))\n",
    "        )\n",
    "        }}\n",
    "        GROUP BY ?concept ?label\n",
    "\n",
    "    \"\"\"\n",
    "    sparql.setQuery(query)\n",
    "    sparql.setReturnFormat(JSON)\n",
    "    results = sparql.query().convert()\n",
    "    candidates = []\n",
    "    for result in results[\"results\"][\"bindings\"]:\n",
    "        label = result[\"label\"][\"value\"]\n",
    "        uri = result[\"concept\"][\"value\"]\n",
    "        altlabels_str = result[\"altLabels\"][\"value\"] if \"altLabels\" in result else \"\"\n",
    "        altlabels = [al.strip().lower() for al in altlabels_str.split(\"|\") if al.strip()]\n",
    "        candidate = {\"label\": label, \"uri\": uri, \"altLabels\": altlabels}\n",
    "        candidates.append(candidate)\n",
    "        \n",
    "    if not candidates:\n",
    "        match = {\"label\": None, \"uri\": None, \"altLabels\": []}\n",
    "    else:\n",
    "        best = semantic_best_match(value, candidates)\n",
    "        match = best\n",
    "    # Cache the result\n",
    "    cache[norm_value] = match\n",
    "    save_cache(cache)\n",
    "    return match"
   ]
  },
  {
   "cell_type": "markdown",
   "id": "297afe66",
   "metadata": {},
   "source": [
    "* **`enrich_with_agrovoc(df, column_name)`**: This function iterates through a specified `column_name` in a DataFrame, queries AGROVOC for each value, and adds two new columns to the DataFrame: `AGROVOC_label` (the preferred label from AGROVOC) and `AGROVOC_uri` (the URI of the AGROVOC concept)."
   ]
  },
  {
   "cell_type": "code",
   "execution_count": 53,
   "id": "c218bc51",
   "metadata": {},
   "outputs": [],
   "source": [
    "def enrich_with_agrovoc(df, column_name):\n",
    "    cache = load_cache()\n",
    "    labels = []\n",
    "    uris = []\n",
    "    for val in df[column_name]:\n",
    "        match = query_agrovoc(val, cache)\n",
    "        labels.append(match[\"label\"])\n",
    "        uris.append(match[\"uri\"])\n",
    "    df[\"AGROVOC_label\"] = labels\n",
    "    df[\"AGROVOC_uri\"] = uris\n",
    "    return df"
   ]
  },
  {
   "cell_type": "markdown",
   "id": "e35e1fe2",
   "metadata": {},
   "source": [
    "### How much water is used to produce food?\n",
    "- the FAO AQUASTAT database for information about worldwide water withdrawal"
   ]
  },
  {
   "cell_type": "code",
   "execution_count": 54,
   "id": "e7a95358",
   "metadata": {},
   "outputs": [
    {
     "name": "stdout",
     "output_type": "stream",
     "text": [
      "Cache hit: 'Agricultural water withdrawal' found in cache\n",
      "Cache hit: 'Industrial water withdrawal' found in cache\n",
      "Cache hit: 'Municipal water withdrawal' found in cache\n"
     ]
    },
    {
     "name": "stderr",
     "output_type": "stream",
     "text": [
      "C:\\Users\\pietr\\AppData\\Local\\Temp\\ipykernel_27288\\1209011792.py:9: SettingWithCopyWarning: \n",
      "A value is trying to be set on a copy of a slice from a DataFrame.\n",
      "Try using .loc[row_indexer,col_indexer] = value instead\n",
      "\n",
      "See the caveats in the documentation: https://pandas.pydata.org/pandas-docs/stable/user_guide/indexing.html#returning-a-view-versus-a-copy\n",
      "  df[\"AGROVOC_label\"] = labels\n",
      "C:\\Users\\pietr\\AppData\\Local\\Temp\\ipykernel_27288\\1209011792.py:10: SettingWithCopyWarning: \n",
      "A value is trying to be set on a copy of a slice from a DataFrame.\n",
      "Try using .loc[row_indexer,col_indexer] = value instead\n",
      "\n",
      "See the caveats in the documentation: https://pandas.pydata.org/pandas-docs/stable/user_guide/indexing.html#returning-a-view-versus-a-copy\n",
      "  df[\"AGROVOC_uri\"] = uris\n"
     ]
    }
   ],
   "source": [
    "world_water_data = pd.read_csv(\"data/aquastat_world_water_data.csv\", encoding=\"utf-8\")\n",
    "# Define the variables of interest\n",
    "variables_of_interest = [\n",
    "    \"Agricultural water withdrawal\",\n",
    "    \"Industrial water withdrawal\",\n",
    "    \"Municipal water withdrawal\"\n",
    "]\n",
    "# Filter the dataframe\n",
    "filtered_water = world_water_data[\n",
    "    (world_water_data[\"Variable\"].isin(variables_of_interest)) &\n",
    "    (world_water_data[\"Year\"] == 2022) &\n",
    "    (world_water_data[\"Area\"] == \"World\")\n",
    "]\n",
    "\n",
    "filtered_water_agrovoc = enrich_with_agrovoc(filtered_water,\"Variable\")\n",
    "# filtered_water_agrovoc.to_csv(r\"final_data\\filtered_water_agrovoc.csv\")\n"
   ]
  },
  {
   "cell_type": "markdown",
   "id": "11075005",
   "metadata": {},
   "source": [
    "### How much land is it used for food production?\n",
    "- land use data from FAOSTAT"
   ]
  },
  {
   "cell_type": "code",
   "execution_count": 55,
   "id": "8c2720dd",
   "metadata": {},
   "outputs": [],
   "source": [
    "landuse_data = pd.read_csv(\"data/FAOSTAT_land_use_data.csv\", encoding=\"utf-8\")"
   ]
  },
  {
   "cell_type": "code",
   "execution_count": 57,
   "id": "45f8ed43",
   "metadata": {},
   "outputs": [
    {
     "name": "stdout",
     "output_type": "stream",
     "text": [
      "Cache hit: 'Land area' found in cache\n",
      "Cache hit: 'Agriculture' found in cache\n",
      "Cache hit: 'Forest land' found in cache\n"
     ]
    }
   ],
   "source": [
    "\n",
    "filtered_landuse = landuse_data[\n",
    "    (landuse_data[\"Area\"] == \"World\") &\n",
    "    (landuse_data[\"Year\"] == 2018) &\n",
    "    (landuse_data[\"Element\"] == \"Area\") &\n",
    "    (landuse_data[\"Item\"].isin([\"Country land\",\n",
    "                                \"Land area\", \n",
    "                                \"Agriculture\", \n",
    "                                \"Forest land\", \n",
    "                                \"Land used for aquaculture\", \n",
    "                                \"Inland waters used for aquac. or holding facilities\", \n",
    "                                \"Inland waters used for capture fishes\", \n",
    "                                \"Coastal waters used for aquac. or holding facilities\",\n",
    "                                \"Coastal waters used for capture fishes\",\n",
    "                                \"EEZ used for aquac. or holding facilities\",\n",
    "                                \"EEZ used for capture fishes\"]))\n",
    "]\n",
    "\n",
    "filtered_landuse = filtered_landuse[[\"Area\", \"Year\", \"Item\", \"Value\"]]\n",
    "filtered_landuse_agrovoc = enrich_with_agrovoc(filtered_landuse, \"Item\")\n",
    "filtered_landuse_agrovoc.to_csv(r\"site/final_data/filtered_landuse_agrovoc.csv\")"
   ]
  },
  {
   "cell_type": "markdown",
   "id": "5757884a",
   "metadata": {},
   "source": [
    "### What are the emissions of the agricultural sector compared to other sectors?\n",
    "- greenhouse gas emissions data from Climate Watch + FAOSTAT\n",
    "#TO DO"
   ]
  },
  {
   "cell_type": "code",
   "execution_count": 58,
   "id": "58311a03",
   "metadata": {},
   "outputs": [],
   "source": [
    "ghg_emissions_data = pd.read_csv(\"data/historical_emissions.csv\", encoding=\"utf-8\")\n",
    "fao_greenhouse_gas_emissions = pd.read_csv(\"data/FAOSTAT_emissions_total.csv\", encoding=\"utf-8\")"
   ]
  },
  {
   "cell_type": "code",
   "execution_count": 59,
   "id": "b9a97df7",
   "metadata": {},
   "outputs": [],
   "source": [
    "aggregation_map = {\n",
    "    # Crop Production\n",
    "    'Crop Residues': 'Crop Production',\n",
    "    'Rice Cultivation': 'Crop Production',\n",
    "    'Burning - Crop residues': 'Crop Production',\n",
    "    'Synthetic Fertilizers': 'Crop Production',\n",
    "    'Drained organic soils': 'Crop Production',\n",
    "    'Drained organic soils (CO2)': 'Crop Production',\n",
    "    'Drained organic soils (N2O)': 'Crop Production',\n",
    "    'Manure applied to Soils': 'Crop Production',\n",
    "\n",
    "    # Livestock Production\n",
    "    'Enteric Fermentation': 'Livestock Production',\n",
    "    'Manure Management': 'Livestock Production',\n",
    "    'Manure left on Pasture': 'Livestock Production',\n",
    "\n",
    "    # Land-Use Change\n",
    "    'Forestland': 'Land-Use Change',\n",
    "    'Net Forest conversion': 'Land-Use Change',\n",
    "    'Savanna fires': 'Land-Use Change',\n",
    "    'Fires in organic soils': 'Land-Use Change',\n",
    "    'Forest fires': 'Land-Use Change',\n",
    "    'Fires in humid tropical forests': 'Land-Use Change',\n",
    "\n",
    "    # On-Farm Energy\n",
    "    'On-farm energy use': 'On-Farm Energy',\n",
    "\n",
    "    # Agricultural Inputs\n",
    "    'Fertilizers Manufacturing': 'Ag. Inputs Manufacturing',\n",
    "    'Pesticides Manufacturing': 'Ag. Inputs Manufacturing',\n",
    "\n",
    "    # Processing & Packaging\n",
    "    'Food Processing': 'Processing & Packaging',\n",
    "    'Food Packaging': 'Processing & Packaging',\n",
    "\n",
    "    # Transport & Retail\n",
    "    'Food Transport': 'Transport & Retail',\n",
    "    'Food Retail': 'Transport & Retail',\n",
    "\n",
    "    # Consumption\n",
    "    'Food Household Consumption': 'Consumption',\n",
    "\n",
    "    # Waste\n",
    "    'Agrifood Systems Waste Disposal': 'Waste',\n",
    "\n",
    "    # Exclude or label as \"Other\" if unrelated\n",
    "    'Energy': 'Other',\n",
    "    'IPPU': 'Other',\n",
    "    'Waste': 'Other',\n",
    "    'International bunkers': 'Other',\n",
    "    'Other': 'Other'\n",
    "}\n",
    "\n",
    "fao_greenhouse_gas_emissions['Category'] = fao_greenhouse_gas_emissions['Item'].map(aggregation_map)\n",
    "\n",
    "useless_drained_organic_soil = [\n",
    "    \"Drained organic soils (CO2)\", \"Drained organic soils (N2O)\"\n",
    "]\n",
    "\n",
    "# Select rows for agriculture sectors emissions\n",
    "agriculture_sectors_emissions = fao_greenhouse_gas_emissions[(fao_greenhouse_gas_emissions[\"Category\"] != \"Other\") & \n",
    "                                                             (fao_greenhouse_gas_emissions[\"Area\"] == \"World\") &\n",
    "                                                                (fao_greenhouse_gas_emissions[\"Year\"] == 2022) &\n",
    "                                                             (fao_greenhouse_gas_emissions[\"Element\"] == \"Emissions (CO2eq) (AR5)\")]\n",
    "\n",
    "# Remove rows with \"Dried organic soils (CO2)\" and \"Dried organic soils (N2O)\"\n",
    "agriculture_sectors_emissions = agriculture_sectors_emissions[~agriculture_sectors_emissions[\"Item\"].isin(useless_drained_organic_soil)] # Pietro use this\n",
    "# Group by Category and sum the values\n",
    "agriculture_sectors_emissions = agriculture_sectors_emissions.groupby(\"Category\").agg({\n",
    "    \"Domain\": \"first\",  # Keep the first value (assuming all rows have the same value)\n",
    "    \"Area\": \"first\",   # Keep the first value (assuming all rows have the same value)\n",
    "    \"Element\": \"first\",  # Keep the first value (assuming all rows have the same value)\n",
    "    \"Year\": \"first\",  # Keep the first value (assuming all rows have the same value)\n",
    "    \"Unit\": \"first\",  # Keep the first value (assuming all rows have the same value)\n",
    "    \"Value\": \"sum\",  # Sum the values\n",
    "    \"Flag Description\": \"first\"  # Keep the first value (assuming all rows have the same value)\n",
    "}).reset_index()\n",
    "\n",
    "# Rename category column as \"Item\"\n",
    "agriculture_sectors_emissions.rename(columns={\"Category\": \"Item\"}, inplace=True)\n",
    "\n",
    "# Add a new column category column filled with \"Agrifood System\"\n",
    "agriculture_sectors_emissions[\"Category\"] = \"Agrifood System\"\n",
    "\n",
    "# Filter for other sectors emissions\n",
    "Other_sectors_emissions = fao_greenhouse_gas_emissions[(fao_greenhouse_gas_emissions[\"Category\"] == \"Other\") &\n",
    "                                                        (fao_greenhouse_gas_emissions[\"Area\"] == \"World\") &\n",
    "                                                        (fao_greenhouse_gas_emissions[\"Year\"] == 2022) &\n",
    "                                                        (fao_greenhouse_gas_emissions[\"Element\"] == \"Emissions (CO2eq) (AR5)\")]\n",
    "\n",
    "# Remove columns that are not needed\n",
    "Other_sectors_emissions = Other_sectors_emissions[[\"Item\", \"Domain\", \"Area\", \"Element\", \"Year\", \"Unit\", \"Value\", \"Flag Description\", \"Category\"]]"
   ]
  },
  {
   "cell_type": "code",
   "execution_count": 60,
   "id": "8e0b3f5f",
   "metadata": {},
   "outputs": [
    {
     "name": "stdout",
     "output_type": "stream",
     "text": [
      "Cache hit: 'Energy' found in cache\n",
      "Cache hit: 'IPPU' found in cache\n",
      "Cache hit: 'Waste' found in cache\n",
      "Cache hit: 'International bunkers' found in cache\n",
      "Cache hit: 'Other' found in cache\n",
      "Cache hit: 'Ag. Inputs Manufacturing' found in cache\n",
      "Cache hit: 'Consumption' found in cache\n",
      "Cache hit: 'Crop Production' found in cache\n",
      "Cache hit: 'Land-Use Change' found in cache\n",
      "Cache hit: 'Livestock Production' found in cache\n",
      "Cache hit: 'On-Farm Energy' found in cache\n",
      "Cache hit: 'Processing & Packaging' found in cache\n",
      "Cache hit: 'Transport & Retail' found in cache\n",
      "Cache hit: 'Waste' found in cache\n"
     ]
    }
   ],
   "source": [
    "emissions_sectors = pd.concat([Other_sectors_emissions, agriculture_sectors_emissions], ignore_index=True)\n",
    "emissions_sectors_agrovoc = enrich_with_agrovoc(emissions_sectors, \"Item\")\n",
    "# emissions_sectors_agrovoc.to_csv(r\"site/final_data/emissions_sectors_agrovoc\")\n"
   ]
  },
  {
   "cell_type": "markdown",
   "id": "05521c6f",
   "metadata": {},
   "source": [
    "## Which are the most consumed types of food in Italy?\n",
    "- the EFSA (European Food Safety Authority) food consumption data for data about the consumption of different types of food in various countries\n",
    "DA SISTEMARE"
   ]
  },
  {
   "cell_type": "code",
   "execution_count": 61,
   "id": "4c390fae",
   "metadata": {},
   "outputs": [
    {
     "name": "stdout",
     "output_type": "stream",
     "text": [
      "Cache hit: 'Cow milk, semi skimmed (half fat)' found in cache\n",
      "Cache hit: 'Coffee (average strength) beverage' found in cache\n",
      "Cache hit: 'Apples' found in cache\n",
      "Cache hit: 'Potatoes' found in cache\n",
      "Cache hit: 'Wheat bread and rolls, white (refined flour)' found in cache\n",
      "Cache hit: 'Wine, red' found in cache\n",
      "Cache hit: 'Chicken fresh meat' found in cache\n",
      "Cache hit: 'Cow milk, whole' found in cache\n",
      "Cache hit: 'Dried durum pasta' found in cache\n",
      "Cache hit: 'Olive oil, virgin or extra-virgin' found in cache\n",
      "Cache hit: 'Coffee espresso (beverage)' found in cache\n",
      "Cache hit: 'Beer' found in cache\n",
      "Cache hit: 'Cow, ox or bull fresh meat' found in cache\n",
      "Cache hit: 'Cola beverages, caffeinic' found in cache\n",
      "Cache hit: 'Globe tomato' found in cache\n"
     ]
    }
   ],
   "source": [
    "food_consumption_data = pd.read_csv(\"data/chronic_consumption_gday_allsubjects.csv\", encoding=\"utf-16\")\n",
    "\n",
    "# Group by 'Exposure hierarchy (L7)', sum the 'Mean' values, and get the top 15\n",
    "food_consumption_data_nowater = food_consumption_data[\n",
    "    (food_consumption_data[\"Exposure hierarchy (L7)\"] != \"Natural mineral water\") &\n",
    "    (food_consumption_data[\"Exposure hierarchy (L7)\"] != \"Tap water\") &\n",
    "    (food_consumption_data[\"Exposure hierarchy (L7)\"] != \"Filtered tap water\")]\n",
    "\n",
    "top = (\n",
    "    food_consumption_data_nowater\n",
    "    .groupby('Exposure hierarchy (L7)', as_index=False)['Mean']\n",
    "    .sum()\n",
    "    .sort_values('Mean', ascending=False)\n",
    "    .head(15)\n",
    ")\n",
    "\n",
    "top_food_consumption_data_agrovoc = enrich_with_agrovoc(top, \"Exposure hierarchy (L7)\")\n",
    "# top_food_consumption_data_agrovoc.to_csv(r\"final_data/top_food_consumption_agrovoc.csv\")"
   ]
  }
 ],
 "metadata": {
  "kernelspec": {
   "display_name": "base",
   "language": "python",
   "name": "python3"
  },
  "language_info": {
   "codemirror_mode": {
    "name": "ipython",
    "version": 3
   },
   "file_extension": ".py",
   "mimetype": "text/x-python",
   "name": "python",
   "nbconvert_exporter": "python",
   "pygments_lexer": "ipython3",
   "version": "3.12.4"
  }
 },
 "nbformat": 4,
 "nbformat_minor": 5
}
