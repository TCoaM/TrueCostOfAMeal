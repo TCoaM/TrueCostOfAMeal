{
 "cells": [
  {
   "cell_type": "markdown",
   "id": "b2f8dca0",
   "metadata": {},
   "source": [
    "Our LOD integration with AGROVOC allows us to efficently associate the terms and concepts that we study to URIs provided by an authorative source."
   ]
  },
  {
   "cell_type": "code",
   "execution_count": 2,
   "id": "ca473a7d",
   "metadata": {},
   "outputs": [],
   "source": [
    "import pandas as pd\n",
    "from SPARQLWrapper import SPARQLWrapper, JSON\n",
    "from sentence_transformers import SentenceTransformer, util\n",
    "import pandas as pd\n",
    "from pprint import pprint"
   ]
  },
  {
   "cell_type": "code",
   "execution_count": 4,
   "id": "3bb5aa04",
   "metadata": {},
   "outputs": [],
   "source": [
    "# Load sentence transformer for semantic matching\n",
    "model = SentenceTransformer('all-MiniLM-L6-v2')\n",
    "\n",
    "# Setup SPARQL endpoint\n",
    "sparql = SPARQLWrapper(\"http://agrovoc.fao.org/sparql\")\n",
    "\n",
    "def query_agrovoc(value):\n",
    "    query = f\"\"\"\n",
    "    PREFIX skos: <http://www.w3.org/2004/02/skos/core#>\n",
    "    SELECT ?concept ?label WHERE {{\n",
    "        ?concept skos:prefLabel ?label .\n",
    "        FILTER(LANG(?label) = \"en\" && REGEX(?label, \"{value}\", \"i\"))\n",
    "    }}\n",
    "    \"\"\"\n",
    "    sparql.setQuery(query)\n",
    "    sparql.setReturnFormat(JSON)\n",
    "    results = sparql.query().convert()\n",
    "    matches = []\n",
    "\n",
    "    for result in results[\"results\"][\"bindings\"]:\n",
    "        label = result.get(\"label\", {}).get(\"value\")\n",
    "        concept = result.get(\"concept\", {}).get(\"value\")\n",
    "        \n",
    "        if label and concept:\n",
    "            matches.append((label, concept))\n",
    "                \n",
    "    return matches\n",
    "\n",
    "\n",
    "def best_match(value, candidates):\n",
    "    if not candidates:\n",
    "        return None, None\n",
    "    input_embedding = model.encode(value, convert_to_tensor=True)\n",
    "    candidate_texts = [label for label, _ in candidates]\n",
    "    candidate_embeddings = model.encode(candidate_texts, convert_to_tensor=True)\n",
    "    scores = util.cos_sim(input_embedding, candidate_embeddings)[0]\n",
    "    best_idx = scores.argmax().item()\n",
    "    return candidates[best_idx]\n",
    "\n",
    "def int_df_agrovoc(df, column):\n",
    "    agrovoc_labels = []\n",
    "    agrovoc_uris = []\n",
    "\n",
    "    for val in df[column]:\n",
    "        matches = query_agrovoc(val)\n",
    "        best_label, best_uri = best_match(val, matches)\n",
    "        agrovoc_labels.append(best_label)\n",
    "        agrovoc_uris.append(best_uri)\n",
    "\n",
    "    df[\"AGROVOC_label\"] = agrovoc_labels\n",
    "    df[\"AGROVOC_uri\"] = agrovoc_uris\n",
    "    return df\n"
   ]
  },
  {
   "cell_type": "markdown",
   "id": "ce13d0a1",
   "metadata": {},
   "source": [
    "- the EFSA (European Food Safety Authority) food consumption data for data about the consumption of different types of food in various countries"
   ]
  },
  {
   "cell_type": "code",
   "execution_count": null,
   "id": "224523c7",
   "metadata": {},
   "outputs": [],
   "source": [
    "food_consumption_data = pd.read_csv(\"data/chronic_consumption_gday_allsubjects.csv\", encoding=\"utf-16\")\n",
    "# food_consumption_data.head(5)\n",
    "# food_consumption_data_agro = int_df_agrovoc(food_consumption_data, \"Exposure hierarchy (L3)\")"
   ]
  },
  {
   "cell_type": "markdown",
   "id": "81922070",
   "metadata": {},
   "source": [
    "### How much water is used to produce food?\n",
    "- the FAO AQUASTAT database for information about worldwide water withdrawal\n"
   ]
  },
  {
   "cell_type": "code",
   "execution_count": null,
   "id": "2f4e1746",
   "metadata": {},
   "outputs": [],
   "source": [
    "# Load the data on worldwide water withdrawals\n",
    "world_water_data = pd.read_csv(\"data/aquastat_world_water_data.csv\", encoding=\"utf-8\")\n"
   ]
  },
  {
   "cell_type": "code",
   "execution_count": null,
   "id": "8606dba1",
   "metadata": {},
   "outputs": [
    {
     "name": "stderr",
     "output_type": "stream",
     "text": [
      "C:\\Users\\pietr\\AppData\\Local\\Temp\\ipykernel_30820\\3573152062.py:50: SettingWithCopyWarning: \n",
      "A value is trying to be set on a copy of a slice from a DataFrame.\n",
      "Try using .loc[row_indexer,col_indexer] = value instead\n",
      "\n",
      "See the caveats in the documentation: https://pandas.pydata.org/pandas-docs/stable/user_guide/indexing.html#returning-a-view-versus-a-copy\n",
      "  df[\"AGROVOC_label\"] = agrovoc_labels\n",
      "C:\\Users\\pietr\\AppData\\Local\\Temp\\ipykernel_30820\\3573152062.py:51: SettingWithCopyWarning: \n",
      "A value is trying to be set on a copy of a slice from a DataFrame.\n",
      "Try using .loc[row_indexer,col_indexer] = value instead\n",
      "\n",
      "See the caveats in the documentation: https://pandas.pydata.org/pandas-docs/stable/user_guide/indexing.html#returning-a-view-versus-a-copy\n",
      "  df[\"AGROVOC_uri\"] = agrovoc_uris\n"
     ]
    }
   ],
   "source": [
    "# Define the variables of interest\n",
    "variables_of_interest = [\n",
    "    \"Agricultural water withdrawal\",\n",
    "    \"Industrial water withdrawal\",\n",
    "    \"Municipal water withdrawal\"\n",
    "]\n",
    "# Filter the dataframe\n",
    "filtered_water = world_water_data[\n",
    "    (world_water_data[\"Variable\"].isin(variables_of_interest)) &\n",
    "    (world_water_data[\"Year\"] == 2022) &\n",
    "    (world_water_data[\"Area\"] == \"World\")\n",
    "]\n",
    "\n",
    "filtered_water\n",
    "\n",
    "filtered_water_agro = int_df_agrovoc(filtered_water, \"Variable\")\n",
    "\n"
   ]
  },
  {
   "cell_type": "code",
   "execution_count": null,
   "id": "baece39d",
   "metadata": {},
   "outputs": [
    {
     "data": {
      "text/html": [
       "<div>\n",
       "<style scoped>\n",
       "    .dataframe tbody tr th:only-of-type {\n",
       "        vertical-align: middle;\n",
       "    }\n",
       "\n",
       "    .dataframe tbody tr th {\n",
       "        vertical-align: top;\n",
       "    }\n",
       "\n",
       "    .dataframe thead th {\n",
       "        text-align: right;\n",
       "    }\n",
       "</style>\n",
       "<table border=\"1\" class=\"dataframe\">\n",
       "  <thead>\n",
       "    <tr style=\"text-align: right;\">\n",
       "      <th></th>\n",
       "      <th>VariableGroup</th>\n",
       "      <th>Subgroup</th>\n",
       "      <th>Variable</th>\n",
       "      <th>Area</th>\n",
       "      <th>Year</th>\n",
       "      <th>Value</th>\n",
       "      <th>Unit</th>\n",
       "      <th>Symbol</th>\n",
       "      <th>IsAggregate</th>\n",
       "      <th>AGROVOC_label</th>\n",
       "      <th>AGROVOC_uri</th>\n",
       "    </tr>\n",
       "  </thead>\n",
       "  <tbody>\n",
       "    <tr>\n",
       "      <th>482</th>\n",
       "      <td>Water use</td>\n",
       "      <td>Water withdrawal by sector</td>\n",
       "      <td>Agricultural water withdrawal</td>\n",
       "      <td>World</td>\n",
       "      <td>2022</td>\n",
       "      <td>2851.590176</td>\n",
       "      <td>10^9 m3/year</td>\n",
       "      <td>E</td>\n",
       "      <td>True</td>\n",
       "      <td>None</td>\n",
       "      <td>None</td>\n",
       "    </tr>\n",
       "    <tr>\n",
       "      <th>2414</th>\n",
       "      <td>Water use</td>\n",
       "      <td>Water withdrawal by sector</td>\n",
       "      <td>Industrial water withdrawal</td>\n",
       "      <td>World</td>\n",
       "      <td>2022</td>\n",
       "      <td>609.893920</td>\n",
       "      <td>10^9 m3/year</td>\n",
       "      <td>E</td>\n",
       "      <td>True</td>\n",
       "      <td>None</td>\n",
       "      <td>None</td>\n",
       "    </tr>\n",
       "    <tr>\n",
       "      <th>4741</th>\n",
       "      <td>Water use</td>\n",
       "      <td>Water withdrawal by sector</td>\n",
       "      <td>Municipal water withdrawal</td>\n",
       "      <td>World</td>\n",
       "      <td>2022</td>\n",
       "      <td>527.233048</td>\n",
       "      <td>10^9 m3/year</td>\n",
       "      <td>E</td>\n",
       "      <td>True</td>\n",
       "      <td>None</td>\n",
       "      <td>None</td>\n",
       "    </tr>\n",
       "  </tbody>\n",
       "</table>\n",
       "</div>"
      ],
      "text/plain": [
       "     VariableGroup                    Subgroup                       Variable  \\\n",
       "482      Water use  Water withdrawal by sector  Agricultural water withdrawal   \n",
       "2414     Water use  Water withdrawal by sector    Industrial water withdrawal   \n",
       "4741     Water use  Water withdrawal by sector     Municipal water withdrawal   \n",
       "\n",
       "       Area  Year        Value          Unit Symbol  IsAggregate  \\\n",
       "482   World  2022  2851.590176  10^9 m3/year      E         True   \n",
       "2414  World  2022   609.893920  10^9 m3/year      E         True   \n",
       "4741  World  2022   527.233048  10^9 m3/year      E         True   \n",
       "\n",
       "     AGROVOC_label AGROVOC_uri  \n",
       "482           None        None  \n",
       "2414          None        None  \n",
       "4741          None        None  "
      ]
     },
     "execution_count": 10,
     "metadata": {},
     "output_type": "execute_result"
    }
   ],
   "source": [
    "filtered_water_agro"
   ]
  },
  {
   "cell_type": "markdown",
   "id": "e7efcfe7",
   "metadata": {},
   "source": [
    "### How much land is it used for food production?\n",
    "- land use data from FAOSTAT"
   ]
  },
  {
   "cell_type": "code",
   "execution_count": 11,
   "id": "d196ff1f",
   "metadata": {},
   "outputs": [
    {
     "data": {
      "text/html": [
       "<div>\n",
       "<style scoped>\n",
       "    .dataframe tbody tr th:only-of-type {\n",
       "        vertical-align: middle;\n",
       "    }\n",
       "\n",
       "    .dataframe tbody tr th {\n",
       "        vertical-align: top;\n",
       "    }\n",
       "\n",
       "    .dataframe thead th {\n",
       "        text-align: right;\n",
       "    }\n",
       "</style>\n",
       "<table border=\"1\" class=\"dataframe\">\n",
       "  <thead>\n",
       "    <tr style=\"text-align: right;\">\n",
       "      <th></th>\n",
       "      <th>Area</th>\n",
       "      <th>Year</th>\n",
       "      <th>Item</th>\n",
       "      <th>Value</th>\n",
       "    </tr>\n",
       "  </thead>\n",
       "  <tbody>\n",
       "    <tr>\n",
       "      <th>44</th>\n",
       "      <td>World</td>\n",
       "      <td>2018</td>\n",
       "      <td>Land area</td>\n",
       "      <td>1.303152e+07</td>\n",
       "    </tr>\n",
       "    <tr>\n",
       "      <th>69</th>\n",
       "      <td>World</td>\n",
       "      <td>2018</td>\n",
       "      <td>Agriculture</td>\n",
       "      <td>4.841329e+06</td>\n",
       "    </tr>\n",
       "    <tr>\n",
       "      <th>532</th>\n",
       "      <td>World</td>\n",
       "      <td>2018</td>\n",
       "      <td>Forest land</td>\n",
       "      <td>4.068924e+06</td>\n",
       "    </tr>\n",
       "  </tbody>\n",
       "</table>\n",
       "</div>"
      ],
      "text/plain": [
       "      Area  Year         Item         Value\n",
       "44   World  2018    Land area  1.303152e+07\n",
       "69   World  2018  Agriculture  4.841329e+06\n",
       "532  World  2018  Forest land  4.068924e+06"
      ]
     },
     "execution_count": 11,
     "metadata": {},
     "output_type": "execute_result"
    }
   ],
   "source": [
    "\n",
    "landuse_data = pd.read_csv(\"data/FAOSTAT_land_use_data.csv\", encoding=\"utf-8\")\n",
    "\n",
    "filtered_landuse = landuse_data[\n",
    "    (landuse_data[\"Area\"] == \"World\") &\n",
    "    (landuse_data[\"Year\"] == 2018) &\n",
    "    (landuse_data[\"Element\"] == \"Area\") &\n",
    "    (landuse_data[\"Item\"].isin([\"Country land\",\n",
    "                                \"Land area\", \n",
    "                                \"Agriculture\", \n",
    "                                \"Forest land\", \n",
    "                                \"Land used for aquaculture\", \n",
    "                                \"Inland waters used for aquac. or holding facilities\", \n",
    "                                \"Inland waters used for capture fishes\", \n",
    "                                \"Coastal waters used for aquac. or holding facilities\",\n",
    "                                \"Coastal waters used for capture fishes\",\n",
    "                                \"EEZ used for aquac. or holding facilities\",\n",
    "                                \"EEZ used for capture fishes\"]))\n",
    "]\n",
    "\n",
    "filtered_landuse = filtered_landuse[[\"Area\", \"Year\", \"Item\", \"Value\"]]\n",
    "filtered_landuse"
   ]
  },
  {
   "cell_type": "code",
   "execution_count": null,
   "id": "fbaa535f",
   "metadata": {},
   "outputs": [
    {
     "data": {
      "text/html": [
       "<div>\n",
       "<style scoped>\n",
       "    .dataframe tbody tr th:only-of-type {\n",
       "        vertical-align: middle;\n",
       "    }\n",
       "\n",
       "    .dataframe tbody tr th {\n",
       "        vertical-align: top;\n",
       "    }\n",
       "\n",
       "    .dataframe thead th {\n",
       "        text-align: right;\n",
       "    }\n",
       "</style>\n",
       "<table border=\"1\" class=\"dataframe\">\n",
       "  <thead>\n",
       "    <tr style=\"text-align: right;\">\n",
       "      <th></th>\n",
       "      <th>Area</th>\n",
       "      <th>Year</th>\n",
       "      <th>Item</th>\n",
       "      <th>Value</th>\n",
       "      <th>AGROVOC_label</th>\n",
       "      <th>AGROVOC_uri</th>\n",
       "    </tr>\n",
       "  </thead>\n",
       "  <tbody>\n",
       "    <tr>\n",
       "      <th>44</th>\n",
       "      <td>World</td>\n",
       "      <td>2018</td>\n",
       "      <td>Land area</td>\n",
       "      <td>1.303152e+07</td>\n",
       "      <td>land area</td>\n",
       "      <td>http://aims.fao.org/aos/agrovoc/c_298db0d3</td>\n",
       "    </tr>\n",
       "    <tr>\n",
       "      <th>69</th>\n",
       "      <td>World</td>\n",
       "      <td>2018</td>\n",
       "      <td>Agriculture</td>\n",
       "      <td>4.841329e+06</td>\n",
       "      <td>agriculture</td>\n",
       "      <td>http://aims.fao.org/aos/agrovoc/c_203</td>\n",
       "    </tr>\n",
       "    <tr>\n",
       "      <th>532</th>\n",
       "      <td>World</td>\n",
       "      <td>2018</td>\n",
       "      <td>Forest land</td>\n",
       "      <td>4.068924e+06</td>\n",
       "      <td>forest land</td>\n",
       "      <td>http://aims.fao.org/aos/agrovoc/c_24843</td>\n",
       "    </tr>\n",
       "  </tbody>\n",
       "</table>\n",
       "</div>"
      ],
      "text/plain": [
       "      Area  Year         Item         Value AGROVOC_label  \\\n",
       "44   World  2018    Land area  1.303152e+07     land area   \n",
       "69   World  2018  Agriculture  4.841329e+06   agriculture   \n",
       "532  World  2018  Forest land  4.068924e+06   forest land   \n",
       "\n",
       "                                    AGROVOC_uri  \n",
       "44   http://aims.fao.org/aos/agrovoc/c_298db0d3  \n",
       "69        http://aims.fao.org/aos/agrovoc/c_203  \n",
       "532     http://aims.fao.org/aos/agrovoc/c_24843  "
      ]
     },
     "execution_count": 13,
     "metadata": {},
     "output_type": "execute_result"
    }
   ],
   "source": [
    "filtered_landuse_agro = int_df_agrovoc(filtered_landuse, \"Item\")\n",
    "filtered_landuse_agro"
   ]
  },
  {
   "cell_type": "markdown",
   "id": "56b6c737",
   "metadata": {},
   "source": [
    "### What are the emissions of the agricultural sector compared to other sectors?\n",
    "- greenhouse gas emissions data from Climate Watch"
   ]
  },
  {
   "cell_type": "code",
   "execution_count": 14,
   "id": "c98fd78e",
   "metadata": {},
   "outputs": [],
   "source": [
    "# Load the dataset on greehhouse gas emissions\n",
    "ghg_emissions_data = pd.read_csv(\"data/historical_emissions.csv\", encoding=\"utf-8\")\n"
   ]
  },
  {
   "cell_type": "markdown",
   "id": "12013080",
   "metadata": {},
   "source": [
    "### What are the emissions of the different processes carried out in the food sector?\n",
    "- emissions from FAOSTAT"
   ]
  }
 ],
 "metadata": {
  "kernelspec": {
   "display_name": "base",
   "language": "python",
   "name": "python3"
  },
  "language_info": {
   "codemirror_mode": {
    "name": "ipython",
    "version": 3
   },
   "file_extension": ".py",
   "mimetype": "text/x-python",
   "name": "python",
   "nbconvert_exporter": "python",
   "pygments_lexer": "ipython3",
   "version": "3.12.4"
  }
 },
 "nbformat": 4,
 "nbformat_minor": 5
}
