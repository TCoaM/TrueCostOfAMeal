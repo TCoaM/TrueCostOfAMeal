{
 "cells": [
  {
   "cell_type": "code",
   "execution_count": 23,
   "id": "aed21bc5",
   "metadata": {},
   "outputs": [],
   "source": [
    "import os\n",
    "import json\n",
    "import pandas as pd\n",
    "from SPARQLWrapper import SPARQLWrapper, JSON\n",
    "from sentence_transformers import SentenceTransformer, util"
   ]
  },
  {
   "cell_type": "code",
   "execution_count": 24,
   "id": "65775d92",
   "metadata": {},
   "outputs": [],
   "source": [
    "# Initialize SPARQL endpoint and model\n",
    "sparql = SPARQLWrapper(\"http://agrovoc.fao.org/sparql\")\n",
    "model = SentenceTransformer('all-MiniLM-L6-v2')\n",
    "\n",
    "CACHE_PATH = \"agro_cache.json\""
   ]
  },
  {
   "cell_type": "code",
   "execution_count": 25,
   "id": "b43ce97c",
   "metadata": {},
   "outputs": [],
   "source": [
    "def load_cache():\n",
    "    if not os.path.exists(CACHE_PATH):\n",
    "        return {}\n",
    "    with open(CACHE_PATH, \"r\", encoding=\"utf-8\") as f:\n",
    "        cache = json.load(f)\n",
    "        return cache\n",
    "\n",
    "def save_cache(cache):\n",
    "    with open(CACHE_PATH, \"w\", encoding=\"utf-8\") as f:\n",
    "        json.dump(cache, f, indent=2)"
   ]
  },
  {
   "cell_type": "code",
   "execution_count": 26,
   "id": "cc93c55b",
   "metadata": {},
   "outputs": [],
   "source": [
    "def semantic_best_match(value, candidates):\n",
    "    input_embedding = model.encode(value, convert_to_tensor=True)\n",
    "    candidate_texts = []\n",
    "    for c in candidates:\n",
    "        candidate_texts.append(c[\"label\"])\n",
    "    candidate_embeddings = model.encode(candidate_texts, convert_to_tensor=True)\n",
    "    scores = util.cos_sim(input_embedding, candidate_embeddings)[0]\n",
    "    best_idx = scores.argmax().item()\n",
    "    return candidates[best_idx]"
   ]
  },
  {
   "cell_type": "code",
   "execution_count": 27,
   "id": "8f43eb80",
   "metadata": {},
   "outputs": [],
   "source": [
    "def query_agrovoc(value, cache):\n",
    "\n",
    "    if value in cache:\n",
    "        print(f\"Cache hit: '{value}' found in cache\")\n",
    "        return cache[value]\n",
    "    \n",
    "    print(f\"Cache miss: '{value}' not in cache, querying AGROVOC endpoint\")\n",
    "    # Run SPARQL query\n",
    "    query = f\"\"\"\n",
    "    PREFIX skos: <http://www.w3.org/2004/02/skos/core#>\n",
    "    SELECT ?concept ?label WHERE {{\n",
    "        ?concept skos:prefLabel ?label .\n",
    "        FILTER(LANG(?label) = \"en\" && REGEX(?label, \"{value}\", \"i\"))\n",
    "    }}\n",
    "    \"\"\"\n",
    "    sparql.setQuery(query)\n",
    "    sparql.setReturnFormat(JSON)\n",
    "    results = sparql.query().convert()\n",
    "    candidates = []\n",
    "    for result in results[\"results\"][\"bindings\"]:\n",
    "        label = result[\"label\"][\"value\"]\n",
    "        uri = result[\"concept\"][\"value\"]\n",
    "        candidate = {\"label\": label, \"uri\": uri}\n",
    "        candidates.append(candidate)\n",
    "    if not candidates:\n",
    "        match = {\"label\": None, \"uri\": None}\n",
    "    else:\n",
    "        best = semantic_best_match(value, candidates)\n",
    "        match = best\n",
    "    # Cache the result\n",
    "    cache[value] = match\n",
    "    save_cache(cache)\n",
    "    return match"
   ]
  },
  {
   "cell_type": "code",
   "execution_count": null,
   "id": "c218bc51",
   "metadata": {},
   "outputs": [],
   "source": [
    "def enrich_with_agrovoc(df, column_name):\n",
    "    cache = load_cache()\n",
    "    labels = []\n",
    "    uris = []\n",
    "    for val in df[column_name]:\n",
    "        match = query_agrovoc(val, cache)\n",
    "        labels.append(match[\"label\"])\n",
    "        uris.append(match[\"uri\"])\n",
    "    df[\"AGROVOC_label\"] = labels\n",
    "    df[\"AGROVOC_uri\"] = uris\n",
    "    return df"
   ]
  },
  {
   "cell_type": "markdown",
   "id": "e35e1fe2",
   "metadata": {},
   "source": [
    "### How much water is used to produce food?\n",
    "- the FAO AQUASTAT database for information about worldwide water withdrawal"
   ]
  },
  {
   "cell_type": "code",
   "execution_count": 33,
   "id": "e7a95358",
   "metadata": {},
   "outputs": [
    {
     "name": "stdout",
     "output_type": "stream",
     "text": [
      "Cache hit: 'Agricultural water withdrawal' found in cache\n",
      "Cache hit: 'Industrial water withdrawal' found in cache\n",
      "Cache hit: 'Municipal water withdrawal' found in cache\n"
     ]
    },
    {
     "name": "stderr",
     "output_type": "stream",
     "text": [
      "C:\\Users\\pietr\\AppData\\Local\\Temp\\ipykernel_5232\\2580766511.py:9: SettingWithCopyWarning: \n",
      "A value is trying to be set on a copy of a slice from a DataFrame.\n",
      "Try using .loc[row_indexer,col_indexer] = value instead\n",
      "\n",
      "See the caveats in the documentation: https://pandas.pydata.org/pandas-docs/stable/user_guide/indexing.html#returning-a-view-versus-a-copy\n",
      "  df[\"AGROVOC_label\"] = labels\n",
      "C:\\Users\\pietr\\AppData\\Local\\Temp\\ipykernel_5232\\2580766511.py:10: SettingWithCopyWarning: \n",
      "A value is trying to be set on a copy of a slice from a DataFrame.\n",
      "Try using .loc[row_indexer,col_indexer] = value instead\n",
      "\n",
      "See the caveats in the documentation: https://pandas.pydata.org/pandas-docs/stable/user_guide/indexing.html#returning-a-view-versus-a-copy\n",
      "  df[\"AGROVOC_uri\"] = uris\n"
     ]
    }
   ],
   "source": [
    "world_water_data = pd.read_csv(\"data/aquastat_world_water_data.csv\", encoding=\"utf-8\")\n",
    "# Define the variables of interest\n",
    "variables_of_interest = [\n",
    "    \"Agricultural water withdrawal\",\n",
    "    \"Industrial water withdrawal\",\n",
    "    \"Municipal water withdrawal\"\n",
    "]\n",
    "# Filter the dataframe\n",
    "filtered_water = world_water_data[\n",
    "    (world_water_data[\"Variable\"].isin(variables_of_interest)) &\n",
    "    (world_water_data[\"Year\"] == 2022) &\n",
    "    (world_water_data[\"Area\"] == \"World\")\n",
    "]\n",
    "\n",
    "filtered_water_agrovoc = enrich_with_agrovoc(filtered_water,\"Variable\")\n",
    "filtered_water_agrovoc.to_csv(r\"final_data\\filtered_water_agrovoc.csv\")\n"
   ]
  },
  {
   "cell_type": "markdown",
   "id": "11075005",
   "metadata": {},
   "source": [
    "### How much land is it used for food production?\n",
    "- land use data from FAOSTAT"
   ]
  },
  {
   "cell_type": "code",
   "execution_count": 35,
   "id": "45f8ed43",
   "metadata": {},
   "outputs": [
    {
     "name": "stdout",
     "output_type": "stream",
     "text": [
      "Cache hit: 'Land area' found in cache\n",
      "Cache hit: 'Agriculture' found in cache\n",
      "Cache hit: 'Forest land' found in cache\n"
     ]
    }
   ],
   "source": [
    "landuse_data = pd.read_csv(\"data/FAOSTAT_land_use_data.csv\", encoding=\"utf-8\")\n",
    "\n",
    "filtered_landuse = landuse_data[\n",
    "    (landuse_data[\"Area\"] == \"World\") &\n",
    "    (landuse_data[\"Year\"] == 2018) &\n",
    "    (landuse_data[\"Element\"] == \"Area\") &\n",
    "    (landuse_data[\"Item\"].isin([\"Country land\",\n",
    "                                \"Land area\", \n",
    "                                \"Agriculture\", \n",
    "                                \"Forest land\", \n",
    "                                \"Land used for aquaculture\", \n",
    "                                \"Inland waters used for aquac. or holding facilities\", \n",
    "                                \"Inland waters used for capture fishes\", \n",
    "                                \"Coastal waters used for aquac. or holding facilities\",\n",
    "                                \"Coastal waters used for capture fishes\",\n",
    "                                \"EEZ used for aquac. or holding facilities\",\n",
    "                                \"EEZ used for capture fishes\"]))\n",
    "]\n",
    "\n",
    "filtered_landuse = filtered_landuse[[\"Area\", \"Year\", \"Item\", \"Value\"]]\n",
    "filtered_landuse_agrovoc = enrich_with_agrovoc(filtered_landuse, \"Item\")\n",
    "filtered_landuse_agrovoc.to_csv(r\"final_data/filtered_landuse_agrovoc.csv\")"
   ]
  }
 ],
 "metadata": {
  "kernelspec": {
   "display_name": "base",
   "language": "python",
   "name": "python3"
  },
  "language_info": {
   "codemirror_mode": {
    "name": "ipython",
    "version": 3
   },
   "file_extension": ".py",
   "mimetype": "text/x-python",
   "name": "python",
   "nbconvert_exporter": "python",
   "pygments_lexer": "ipython3",
   "version": "3.12.4"
  }
 },
 "nbformat": 4,
 "nbformat_minor": 5
}
