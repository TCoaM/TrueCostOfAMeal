{
 "cells": [
  {
   "cell_type": "code",
   "execution_count": 3,
   "id": "aed21bc5",
   "metadata": {},
   "outputs": [],
   "source": [
    "import os\n",
    "import json\n",
    "import string\n",
    "import pandas as pd\n",
    "from SPARQLWrapper import SPARQLWrapper, JSON\n",
    "from sentence_transformers import SentenceTransformer, util"
   ]
  },
  {
   "cell_type": "code",
   "execution_count": 14,
   "id": "65775d92",
   "metadata": {},
   "outputs": [],
   "source": [
    "# Initialize SPARQL endpoint and model\n",
    "sparql = SPARQLWrapper(\"http://agrovoc.fao.org/sparql\")\n",
    "model = SentenceTransformer('all-MiniLM-L6-v2')\n",
    "\n",
    "CACHE_PATH = \"agro_cache.json\""
   ]
  },
  {
   "cell_type": "code",
   "execution_count": 19,
   "id": "b43ce97c",
   "metadata": {},
   "outputs": [],
   "source": [
    "def load_cache():\n",
    "    if not os.path.exists(CACHE_PATH):\n",
    "        return {}\n",
    "    with open(CACHE_PATH, \"r\", encoding=\"utf-8\") as f:\n",
    "        cache = json.load(f)\n",
    "        return cache\n",
    "\n",
    "def save_cache(cache):\n",
    "    with open(CACHE_PATH, \"w\", encoding=\"utf-8\") as f:\n",
    "        json.dump(cache, f, indent=2)\n",
    "\n",
    "def clean_cache():\n",
    "    if not os.path.exists(CACHE_PATH):\n",
    "        return\n",
    "    with open(CACHE_PATH, \"r\", encoding=\"utf-8\") as f:\n",
    "        cache = json.load(f)\n",
    "\n",
    "    cleaned_cache = {\n",
    "        key: value\n",
    "        for key, value in cache.items()\n",
    "        if value.get(\"label\") is not None\n",
    "    }\n",
    "\n",
    "    with open(CACHE_PATH, \"w\", encoding=\"utf-8\") as f:\n",
    "        json.dump(cleaned_cache, f, indent=2)"
   ]
  },
  {
   "cell_type": "code",
   "execution_count": 12,
   "id": "cc93c55b",
   "metadata": {},
   "outputs": [],
   "source": [
    "def semantic_best_match(value, candidates):\n",
    "    input_embedding = model.encode(value, convert_to_tensor=True)\n",
    "    candidate_texts = []\n",
    "    for c in candidates:\n",
    "        candidate_texts.append(c[\"label\"])\n",
    "    candidate_embeddings = model.encode(candidate_texts, convert_to_tensor=True)\n",
    "    scores = util.cos_sim(input_embedding, candidate_embeddings)[0]\n",
    "    best_idx = scores.argmax().item()\n",
    "    return candidates[best_idx]"
   ]
  },
  {
   "cell_type": "code",
   "execution_count": 11,
   "id": "8f43eb80",
   "metadata": {},
   "outputs": [],
   "source": [
    "def query_agrovoc(value, cache):\n",
    "\n",
    "\n",
    "    if value in cache:\n",
    "        print(f\"Cache hit: '{value}' found in cache\")\n",
    "        return cache[value]\n",
    "    \n",
    "    print(f\"Cache miss: '{value}' not in cache, querying AGROVOC endpoint\")\n",
    "    # Run SPARQL query\n",
    "    query = f\"\"\"\n",
    "    PREFIX skos: <http://www.w3.org/2004/02/skos/core#>\n",
    "    SELECT ?concept ?label WHERE {{\n",
    "        ?concept skos:prefLabel ?label .\n",
    "        FILTER(LANG(?label) = \"en\" && REGEX(?label, \"{value}\", \"i\"))\n",
    "    }}\n",
    "    \"\"\"\n",
    "    sparql.setQuery(query)\n",
    "    sparql.setReturnFormat(JSON)\n",
    "    results = sparql.query().convert()\n",
    "    candidates = []\n",
    "    for result in results[\"results\"][\"bindings\"]:\n",
    "        label = result[\"label\"][\"value\"]\n",
    "        uri = result[\"concept\"][\"value\"]\n",
    "        candidate = {\"label\": label, \"uri\": uri}\n",
    "        candidates.append(candidate)\n",
    "    if not candidates:\n",
    "        match = {\"label\": None, \"uri\": None}\n",
    "    else:\n",
    "        best = semantic_best_match(value, candidates)\n",
    "        match = best\n",
    "    # Cache the result\n",
    "    cache[value] = match\n",
    "    save_cache(cache)\n",
    "    return match"
   ]
  },
  {
   "cell_type": "code",
   "execution_count": 10,
   "id": "c218bc51",
   "metadata": {},
   "outputs": [],
   "source": [
    "def enrich_with_agrovoc(df, column_name):\n",
    "    cache = load_cache()\n",
    "    labels = []\n",
    "    uris = []\n",
    "    for val in df[column_name]:\n",
    "        match = query_agrovoc(val, cache)\n",
    "        labels.append(match[\"label\"])\n",
    "        uris.append(match[\"uri\"])\n",
    "    df[\"AGROVOC_label\"] = labels\n",
    "    df[\"AGROVOC_uri\"] = uris\n",
    "    return df"
   ]
  },
  {
   "cell_type": "markdown",
   "id": "e35e1fe2",
   "metadata": {},
   "source": [
    "### How much water is used to produce food?\n",
    "- the FAO AQUASTAT database for information about worldwide water withdrawal"
   ]
  },
  {
   "cell_type": "code",
   "execution_count": 33,
   "id": "e7a95358",
   "metadata": {},
   "outputs": [
    {
     "name": "stdout",
     "output_type": "stream",
     "text": [
      "Cache hit: 'Agricultural water withdrawal' found in cache\n",
      "Cache hit: 'Industrial water withdrawal' found in cache\n",
      "Cache hit: 'Municipal water withdrawal' found in cache\n"
     ]
    },
    {
     "name": "stderr",
     "output_type": "stream",
     "text": [
      "C:\\Users\\pietr\\AppData\\Local\\Temp\\ipykernel_5232\\2580766511.py:9: SettingWithCopyWarning: \n",
      "A value is trying to be set on a copy of a slice from a DataFrame.\n",
      "Try using .loc[row_indexer,col_indexer] = value instead\n",
      "\n",
      "See the caveats in the documentation: https://pandas.pydata.org/pandas-docs/stable/user_guide/indexing.html#returning-a-view-versus-a-copy\n",
      "  df[\"AGROVOC_label\"] = labels\n",
      "C:\\Users\\pietr\\AppData\\Local\\Temp\\ipykernel_5232\\2580766511.py:10: SettingWithCopyWarning: \n",
      "A value is trying to be set on a copy of a slice from a DataFrame.\n",
      "Try using .loc[row_indexer,col_indexer] = value instead\n",
      "\n",
      "See the caveats in the documentation: https://pandas.pydata.org/pandas-docs/stable/user_guide/indexing.html#returning-a-view-versus-a-copy\n",
      "  df[\"AGROVOC_uri\"] = uris\n"
     ]
    }
   ],
   "source": [
    "world_water_data = pd.read_csv(\"data/aquastat_world_water_data.csv\", encoding=\"utf-8\")\n",
    "# Define the variables of interest\n",
    "variables_of_interest = [\n",
    "    \"Agricultural water withdrawal\",\n",
    "    \"Industrial water withdrawal\",\n",
    "    \"Municipal water withdrawal\"\n",
    "]\n",
    "# Filter the dataframe\n",
    "filtered_water = world_water_data[\n",
    "    (world_water_data[\"Variable\"].isin(variables_of_interest)) &\n",
    "    (world_water_data[\"Year\"] == 2022) &\n",
    "    (world_water_data[\"Area\"] == \"World\")\n",
    "]\n",
    "\n",
    "filtered_water_agrovoc = enrich_with_agrovoc(filtered_water,\"Variable\")\n",
    "filtered_water_agrovoc.to_csv(r\"final_data\\filtered_water_agrovoc.csv\")\n"
   ]
  },
  {
   "cell_type": "markdown",
   "id": "11075005",
   "metadata": {},
   "source": [
    "### How much land is it used for food production?\n",
    "- land use data from FAOSTAT"
   ]
  },
  {
   "cell_type": "code",
   "execution_count": 35,
   "id": "45f8ed43",
   "metadata": {},
   "outputs": [
    {
     "name": "stdout",
     "output_type": "stream",
     "text": [
      "Cache hit: 'Land area' found in cache\n",
      "Cache hit: 'Agriculture' found in cache\n",
      "Cache hit: 'Forest land' found in cache\n"
     ]
    }
   ],
   "source": [
    "landuse_data = pd.read_csv(\"data/FAOSTAT_land_use_data.csv\", encoding=\"utf-8\")\n",
    "\n",
    "filtered_landuse = landuse_data[\n",
    "    (landuse_data[\"Area\"] == \"World\") &\n",
    "    (landuse_data[\"Year\"] == 2018) &\n",
    "    (landuse_data[\"Element\"] == \"Area\") &\n",
    "    (landuse_data[\"Item\"].isin([\"Country land\",\n",
    "                                \"Land area\", \n",
    "                                \"Agriculture\", \n",
    "                                \"Forest land\", \n",
    "                                \"Land used for aquaculture\", \n",
    "                                \"Inland waters used for aquac. or holding facilities\", \n",
    "                                \"Inland waters used for capture fishes\", \n",
    "                                \"Coastal waters used for aquac. or holding facilities\",\n",
    "                                \"Coastal waters used for capture fishes\",\n",
    "                                \"EEZ used for aquac. or holding facilities\",\n",
    "                                \"EEZ used for capture fishes\"]))\n",
    "]\n",
    "\n",
    "filtered_landuse = filtered_landuse[[\"Area\", \"Year\", \"Item\", \"Value\"]]\n",
    "filtered_landuse_agrovoc = enrich_with_agrovoc(filtered_landuse, \"Item\")\n",
    "filtered_landuse_agrovoc.to_csv(r\"final_data/filtered_landuse_agrovoc.csv\")"
   ]
  },
  {
   "cell_type": "markdown",
   "id": "5757884a",
   "metadata": {},
   "source": [
    "### What are the emissions of the agricultural sector compared to other sectors?\n",
    "- greenhouse gas emissions data from Climate Watch + FAOSTAT\n",
    "#TO DO"
   ]
  },
  {
   "cell_type": "code",
   "execution_count": 4,
   "id": "58311a03",
   "metadata": {},
   "outputs": [],
   "source": [
    "ghg_emissions_data = pd.read_csv(\"data/historical_emissions.csv\", encoding=\"utf-8\")\n",
    "fao_greenhouse_gas_emissions = pd.read_csv(\"data/FAOSTAT_emissions_total.csv\", encoding=\"utf-8\")"
   ]
  },
  {
   "cell_type": "code",
   "execution_count": 5,
   "id": "b9a97df7",
   "metadata": {},
   "outputs": [],
   "source": [
    "aggregation_map = {\n",
    "    # Crop Production\n",
    "    'Crop Residues': 'Crop Production',\n",
    "    'Rice Cultivation': 'Crop Production',\n",
    "    'Burning - Crop residues': 'Crop Production',\n",
    "    'Synthetic Fertilizers': 'Crop Production',\n",
    "    'Drained organic soils': 'Crop Production',\n",
    "    'Drained organic soils (CO2)': 'Crop Production',\n",
    "    'Drained organic soils (N2O)': 'Crop Production',\n",
    "    'Manure applied to Soils': 'Crop Production',\n",
    "\n",
    "    # Livestock Production\n",
    "    'Enteric Fermentation': 'Livestock Production',\n",
    "    'Manure Management': 'Livestock Production',\n",
    "    'Manure left on Pasture': 'Livestock Production',\n",
    "\n",
    "    # Land-Use Change\n",
    "    'Forestland': 'Land-Use Change',\n",
    "    'Net Forest conversion': 'Land-Use Change',\n",
    "    'Savanna fires': 'Land-Use Change',\n",
    "    'Fires in organic soils': 'Land-Use Change',\n",
    "    'Forest fires': 'Land-Use Change',\n",
    "    'Fires in humid tropical forests': 'Land-Use Change',\n",
    "\n",
    "    # On-Farm Energy\n",
    "    'On-farm energy use': 'On-Farm Energy',\n",
    "\n",
    "    # Agricultural Inputs\n",
    "    'Fertilizers Manufacturing': 'Ag. Inputs Manufacturing',\n",
    "    'Pesticides Manufacturing': 'Ag. Inputs Manufacturing',\n",
    "\n",
    "    # Processing & Packaging\n",
    "    'Food Processing': 'Processing & Packaging',\n",
    "    'Food Packaging': 'Processing & Packaging',\n",
    "\n",
    "    # Transport & Retail\n",
    "    'Food Transport': 'Transport & Retail',\n",
    "    'Food Retail': 'Transport & Retail',\n",
    "\n",
    "    # Consumption\n",
    "    'Food Household Consumption': 'Consumption',\n",
    "\n",
    "    # Waste\n",
    "    'Agrifood Systems Waste Disposal': 'Waste',\n",
    "\n",
    "    # Exclude or label as \"Other\" if unrelated\n",
    "    'Energy': 'Other',\n",
    "    'IPPU': 'Other',\n",
    "    'Waste': 'Other',\n",
    "    'International bunkers': 'Other',\n",
    "    'Other': 'Other'\n",
    "}\n",
    "\n",
    "fao_greenhouse_gas_emissions['Category'] = fao_greenhouse_gas_emissions['Item'].map(aggregation_map)\n",
    "\n"
   ]
  },
  {
   "cell_type": "code",
   "execution_count": null,
   "id": "1b538ec4",
   "metadata": {},
   "outputs": [],
   "source": [
    "useless_drained_organic_soil = [\n",
    "    \"Drained organic soils (CO2)\", \"Drained organic soils (N2O)\"\n",
    "]\n",
    "\n",
    "# Select rows for agriculture sectors emissions\n",
    "agriculture_sectors_emissions = fao_greenhouse_gas_emissions[(fao_greenhouse_gas_emissions[\"Category\"] != \"Other\") & \n",
    "                                                             (fao_greenhouse_gas_emissions[\"Area\"] == \"World\") &\n",
    "                                                                (fao_greenhouse_gas_emissions[\"Year\"] == 2022) &\n",
    "                                                             (fao_greenhouse_gas_emissions[\"Element\"] == \"Emissions (CO2eq) (AR5)\")]\n",
    "\n",
    "# Remove rows with \"Dried organic soils (CO2)\" and \"Dried organic soils (N2O)\"\n",
    "agriculture_sectors_emissions = agriculture_sectors_emissions[~agriculture_sectors_emissions[\"Item\"].isin(useless_drained_organic_soil)] # Pietro use this\n",
    "agriculture_sectors_emissions_values = agriculture_sectors_emissions[\"Value\"].tolist()\n",
    "agriculture_sectors_emissions_items = agriculture_sectors_emissions[\"Item\"].tolist()\n",
    "\n",
    "agriculture_sectors_emissions # Pietro questo"
   ]
  },
  {
   "cell_type": "code",
   "execution_count": null,
   "id": "40822006",
   "metadata": {},
   "outputs": [],
   "source": [
    "Other_sectors_emissions = fao_greenhouse_gas_emissions[(fao_greenhouse_gas_emissions[\"Category\"] == \"Other\") &\n",
    "                                                        (fao_greenhouse_gas_emissions[\"Area\"] == \"World\") &\n",
    "                                                        (fao_greenhouse_gas_emissions[\"Year\"] == 2022) &\n",
    "                                                        (fao_greenhouse_gas_emissions[\"Element\"] == \"Emissions (CO2eq) (AR5)\")] # Pietro use this\n",
    "other_sectors_emissions_values = Other_sectors_emissions[\"Value\"].tolist()\n",
    "other_sectors_emissions_items = Other_sectors_emissions[\"Item\"].tolist()\n",
    "\n",
    "Other_sectors_emissions # Pietro questo"
   ]
  },
  {
   "cell_type": "code",
   "execution_count": 24,
   "id": "8e0b3f5f",
   "metadata": {},
   "outputs": [
    {
     "name": "stdout",
     "output_type": "stream",
     "text": [
      "Cache hit: 'Energy' found in cache\n",
      "Cache hit: 'IPPU' found in cache\n",
      "Cache hit: 'Waste' found in cache\n",
      "Cache hit: 'International bunkers' found in cache\n",
      "Cache hit: 'Other' found in cache\n",
      "Cache hit: 'Crop Residues' found in cache\n",
      "Cache hit: 'Rice Cultivation' found in cache\n",
      "Cache hit: 'Burning - Crop residues' found in cache\n",
      "Cache hit: 'Enteric Fermentation' found in cache\n",
      "Cache hit: 'Manure Management' found in cache\n",
      "Cache hit: 'Manure left on Pasture' found in cache\n",
      "Cache hit: 'Manure applied to Soils' found in cache\n",
      "Cache hit: 'Synthetic Fertilizers' found in cache\n",
      "Cache hit: 'Drained organic soils' found in cache\n",
      "Cache hit: 'On-farm energy use' found in cache\n",
      "Cache hit: 'Forestland' found in cache\n",
      "Cache hit: 'Net Forest conversion' found in cache\n",
      "Cache hit: 'Savanna fires' found in cache\n",
      "Cache hit: 'Fires in organic soils' found in cache\n",
      "Cache hit: 'Forest fires' found in cache\n",
      "Cache hit: 'Fires in humid tropical forests' found in cache\n",
      "Cache hit: 'Agrifood Systems Waste Disposal' found in cache\n",
      "Cache hit: 'Fertilizers Manufacturing' found in cache\n",
      "Cache hit: 'Pesticides Manufacturing' found in cache\n",
      "Cache hit: 'Food Processing' found in cache\n",
      "Cache hit: 'Food Packaging' found in cache\n",
      "Cache hit: 'Food Retail' found in cache\n",
      "Cache hit: 'Food Household Consumption' found in cache\n",
      "Cache hit: 'Food Transport' found in cache\n"
     ]
    }
   ],
   "source": [
    "emissions_sectors = pd.concat([Other_sectors_emissions, agriculture_sectors_emissions], ignore_index=True)\n",
    "\n",
    "emissions_sectors_agrovoc = enrich_with_agrovoc(emissions_sectors, \"Item\")\n",
    "\n"
   ]
  },
  {
   "cell_type": "code",
   "execution_count": 26,
   "id": "55a67e20",
   "metadata": {},
   "outputs": [],
   "source": [
    "emissions_sectors_agrovoc.to_csv(r\"final_data/emissions_sectors_agrovoc\")"
   ]
  },
  {
   "cell_type": "markdown",
   "id": "05521c6f",
   "metadata": {},
   "source": [
    "## Which are the most consumed types of food in Italy?\n",
    "- the EFSA (European Food Safety Authority) food consumption data for data about the consumption of different types of food in various countries\n",
    "DA SISTEMARE"
   ]
  },
  {
   "cell_type": "code",
   "execution_count": 1,
   "id": "4c390fae",
   "metadata": {},
   "outputs": [
    {
     "ename": "NameError",
     "evalue": "name 'pd' is not defined",
     "output_type": "error",
     "traceback": [
      "\u001b[1;31m---------------------------------------------------------------------------\u001b[0m",
      "\u001b[1;31mNameError\u001b[0m                                 Traceback (most recent call last)",
      "Cell \u001b[1;32mIn[1], line 1\u001b[0m\n\u001b[1;32m----> 1\u001b[0m food_consumption_data \u001b[38;5;241m=\u001b[39m pd\u001b[38;5;241m.\u001b[39mread_csv(\u001b[38;5;124m\"\u001b[39m\u001b[38;5;124mdata/chronic_consumption_gday_allsubjects.csv\u001b[39m\u001b[38;5;124m\"\u001b[39m, encoding\u001b[38;5;241m=\u001b[39m\u001b[38;5;124m\"\u001b[39m\u001b[38;5;124mutf-16\u001b[39m\u001b[38;5;124m\"\u001b[39m)\n\u001b[0;32m      3\u001b[0m \u001b[38;5;66;03m# Group by 'Exposure hierarchy (L7)', sum the 'Mean' values, and get the top 15\u001b[39;00m\n\u001b[0;32m      4\u001b[0m food_consumption_data_nowater \u001b[38;5;241m=\u001b[39m food_consumption_data[\n\u001b[0;32m      5\u001b[0m     (food_consumption_data[\u001b[38;5;124m\"\u001b[39m\u001b[38;5;124mExposure hierarchy (L7)\u001b[39m\u001b[38;5;124m\"\u001b[39m] \u001b[38;5;241m!=\u001b[39m \u001b[38;5;124m\"\u001b[39m\u001b[38;5;124mNatural mineral water\u001b[39m\u001b[38;5;124m\"\u001b[39m) \u001b[38;5;241m&\u001b[39m\n\u001b[0;32m      6\u001b[0m     (food_consumption_data[\u001b[38;5;124m\"\u001b[39m\u001b[38;5;124mExposure hierarchy (L7)\u001b[39m\u001b[38;5;124m\"\u001b[39m] \u001b[38;5;241m!=\u001b[39m \u001b[38;5;124m\"\u001b[39m\u001b[38;5;124mTap water\u001b[39m\u001b[38;5;124m\"\u001b[39m) \u001b[38;5;241m&\u001b[39m\n\u001b[0;32m      7\u001b[0m     (food_consumption_data[\u001b[38;5;124m\"\u001b[39m\u001b[38;5;124mExposure hierarchy (L7)\u001b[39m\u001b[38;5;124m\"\u001b[39m] \u001b[38;5;241m!=\u001b[39m \u001b[38;5;124m\"\u001b[39m\u001b[38;5;124mFiltered tap water\u001b[39m\u001b[38;5;124m\"\u001b[39m)]\n",
      "\u001b[1;31mNameError\u001b[0m: name 'pd' is not defined"
     ]
    }
   ],
   "source": [
    "food_consumption_data = pd.read_csv(\"data/chronic_consumption_gday_allsubjects.csv\", encoding=\"utf-16\")\n",
    "\n",
    "# Group by 'Exposure hierarchy (L7)', sum the 'Mean' values, and get the top 15\n",
    "food_consumption_data_nowater = food_consumption_data[\n",
    "    (food_consumption_data[\"Exposure hierarchy (L7)\"] != \"Natural mineral water\") &\n",
    "    (food_consumption_data[\"Exposure hierarchy (L7)\"] != \"Tap water\") &\n",
    "    (food_consumption_data[\"Exposure hierarchy (L7)\"] != \"Filtered tap water\")]\n",
    "\n",
    "top = (\n",
    "    food_consumption_data_nowater\n",
    "    .groupby('Exposure hierarchy (L7)', as_index=False)['Mean']\n",
    "    .sum()\n",
    "    .sort_values('Mean', ascending=False)\n",
    "    .head(15)\n",
    ")\n",
    "\n",
    "top_food_consumption_data_agrovoc = enrich_with_agrovoc(top, \"Exposure hierarchy (L7)\")\n",
    "top_food_consumption_data_agrovoc.to_csv(r\"final_data/top_food_consumption_agrovoc.csv\")"
   ]
  },
  {
   "cell_type": "code",
   "execution_count": null,
   "id": "4ad54aa8",
   "metadata": {},
   "outputs": [],
   "source": []
  }
 ],
 "metadata": {
  "kernelspec": {
   "display_name": "base",
   "language": "python",
   "name": "python3"
  },
  "language_info": {
   "codemirror_mode": {
    "name": "ipython",
    "version": 3
   },
   "file_extension": ".py",
   "mimetype": "text/x-python",
   "name": "python",
   "nbconvert_exporter": "python",
   "pygments_lexer": "ipython3",
   "version": "3.12.4"
  }
 },
 "nbformat": 4,
 "nbformat_minor": 5
}
